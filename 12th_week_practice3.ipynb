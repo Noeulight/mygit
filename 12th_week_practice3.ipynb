{
 "cells": [
  {
   "cell_type": "markdown",
   "metadata": {},
   "source": [
    "# 실습 과제 3"
   ]
  },
  {
   "cell_type": "markdown",
   "metadata": {},
   "source": [
    "##### 오류에 대한 예외처리를 위해 입력을 함수 안에서 받도록 함.\n",
    "##### 음수 값을 입력 받을 경우 ValueError로 예외처리\n",
    "##### num2 값이 0일 경우 계산 오류가 발생하므로 이에 대한 예외처리 구현\n",
    "##### 위 두 항목을 제외한 예외처리가 발생하더라도 이를 예외처리로 구현\n",
    "##### 올바른 계산이 이뤄졌을 경우 else를 통해 출력"
   ]
  },
  {
   "cell_type": "code",
   "execution_count": null,
   "metadata": {},
   "outputs": [],
   "source": [
    "def divide():\n",
    "    try:\n",
    "        num1, num2 = map(int, input().split())\n",
    "        \n",
    "        if num1 <= 0 or num2 <= 0:\n",
    "            raise ValueError(\"자연수를 입력하세요.\")\n",
    "        \n",
    "        result = num1 / num2\n",
    "    \n",
    "    except ValueError as ve:\n",
    "        print(f\"입력 오류: {ve}\")\n",
    "    except ZeroDivisionError:\n",
    "        print(\"계산 오류: 0으로 나눌 수 없습니다.\")\n",
    "    except Exception as e:\n",
    "        print(f\"알 수 없는 오류가 발생했습니다: {e}\")\n",
    "    else:\n",
    "        print(f\"결과: {num1} / {num2} = {result}\")"
   ]
  },
  {
   "cell_type": "markdown",
   "metadata": {},
   "source": [
    "##### 함수 실행"
   ]
  },
  {
   "cell_type": "code",
   "execution_count": null,
   "metadata": {},
   "outputs": [],
   "source": [
    "divide()"
   ]
  }
 ],
 "metadata": {
  "kernelspec": {
   "display_name": "Python 3",
   "language": "python",
   "name": "python3"
  },
  "language_info": {
   "codemirror_mode": {
    "name": "ipython",
    "version": 3
   },
   "file_extension": ".py",
   "mimetype": "text/x-python",
   "name": "python",
   "nbconvert_exporter": "python",
   "pygments_lexer": "ipython3",
   "version": "3.11.9"
  }
 },
 "nbformat": 4,
 "nbformat_minor": 2
}
