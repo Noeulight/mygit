{
 "cells": [
  {
   "cell_type": "markdown",
   "metadata": {},
   "source": [
    "# 소수 만들기\n",
    "## 주어진 숫자 중 3개의 수를 더했을 때 소수가 되는 경우의 개수 구하기\n",
    "### 숫자들이 들어있는 배열 nums가 매개변수로 주어질 때, nums에 있는 숫자들 중 서로 다른 3개를 골라 더했을 때 소수가 되는 경우의 개수를 return 하도록 solution 함수 완성하기\n",
    "\n",
    "#### 코드 설명\n",
    "##### nums가 주어지면 solution을 통해 함수를 실행\n",
    "##### nums에서 서로 다른 3개의 원소를 뽑아 각각을 배열 원소로 com이라는 배열에 2중배열로 넣어줌\n",
    "##### com에서 각 원소를 뽑아 배열 안의 3개의 원소의 합을 구한 후 is_prime()을 통해 소수인지 판별\n",
    "##### 판별한 값이 return 되면 참거짓에 따라 if문 수행 후 소수가 되는 경우의 개수를 answer에 추가\n",
    "##### 최종적으로 answer를 리턴"
   ]
  },
  {
   "cell_type": "code",
   "execution_count": null,
   "metadata": {},
   "outputs": [],
   "source": [
    "import itertools\n",
    "\n",
    "def is_prime(x):\n",
    "    for i in range(2, x):\n",
    "        if x % i == 0:\n",
    "            return False\n",
    "    return True\n",
    "\n",
    "def solution(nums):\n",
    "    com = list(itertools.combinations(nums, 3))\n",
    "    result = []\n",
    "    answer = 0\n",
    "    \n",
    "    for ele in com:\n",
    "        _sum = sum(ele)\n",
    "        if is_prime(_sum):\n",
    "            result.append(ele)\n",
    "            answer += 1\n",
    "    \n",
    "    return answer\n",
    "\n",
    "nums = [1,2,7,6,4]\n",
    "print(solution(nums))"
   ]
  }
 ],
 "metadata": {
  "language_info": {
   "name": "python"
  }
 },
 "nbformat": 4,
 "nbformat_minor": 2
}
