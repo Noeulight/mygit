{
 "cells": [
  {
   "cell_type": "markdown",
   "metadata": {},
   "source": [
    "# 소수 만들기\n",
    "## 주어진 숫자 중 3개의 수를 더했을 때 소수가 되는 경우의 개수 구하기\n",
    "### 숫자들이 들어있는 배열 nums가 매개변수로 주어질 때, nums에 있는 숫자들 중 서로 다른 3개를 골라 더했을 때 소수가 되는 경우의 개수를 return 하도록 solution 함수 완성하기"
   ]
  },
  {
   "cell_type": "markdown",
   "metadata": {},
   "source": [
    "##### 주어진 x가 소수인지 판별하는 함수"
   ]
  },
  {
   "cell_type": "code",
   "execution_count": 2,
   "metadata": {},
   "outputs": [],
   "source": [
    "def is_prime(x):\n",
    "    for i in range(2, x):\n",
    "        if x % i == 0:\n",
    "            return False\n",
    "    return True"
   ]
  },
  {
   "cell_type": "markdown",
   "metadata": {},
   "source": [
    "##### 1. 주어진 nums 배열에서 서로 다른 원소 3개를 골라 com 배열을 만듬\n",
    "##### 2. com 배열의 각 원소의 합을 구해 그 합이 소수인지 판별\n",
    "##### 3. 참거짓에 따라 if 문을 수행, 참일 경우 해당 원소를 result에 추가\n",
    "##### 4. 최종적으로 result 배열의 길이를 return"
   ]
  },
  {
   "cell_type": "code",
   "execution_count": 3,
   "metadata": {},
   "outputs": [],
   "source": [
    "import itertools\n",
    "\n",
    "def solution(nums):\n",
    "    com = list(itertools.combinations(nums, 3))\n",
    "    result = []\n",
    "    \n",
    "    for ele in com:\n",
    "        _sum = sum(ele)\n",
    "        if is_prime(_sum):\n",
    "            result.append(ele)\n",
    "    \n",
    "    return len(result)"
   ]
  },
  {
   "cell_type": "code",
   "execution_count": 4,
   "metadata": {},
   "outputs": [
    {
     "name": "stdout",
     "output_type": "stream",
     "text": [
      "4\n"
     ]
    }
   ],
   "source": [
    "nums_1 = [1,2,7,6,4]\n",
    "print(solution(nums_1))"
   ]
  },
  {
   "cell_type": "code",
   "execution_count": 5,
   "metadata": {},
   "outputs": [
    {
     "name": "stdout",
     "output_type": "stream",
     "text": [
      "1\n"
     ]
    }
   ],
   "source": [
    "nums_2 = [1,2,3,4]\n",
    "print(solution(nums_2))"
   ]
  }
 ],
 "metadata": {
  "kernelspec": {
   "display_name": "Python 3",
   "language": "python",
   "name": "python3"
  },
  "language_info": {
   "codemirror_mode": {
    "name": "ipython",
    "version": 3
   },
   "file_extension": ".py",
   "mimetype": "text/x-python",
   "name": "python",
   "nbconvert_exporter": "python",
   "pygments_lexer": "ipython3",
   "version": "3.11.9"
  }
 },
 "nbformat": 4,
 "nbformat_minor": 2
}
