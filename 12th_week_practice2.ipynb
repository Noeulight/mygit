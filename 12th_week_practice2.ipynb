{
 "cells": [
  {
   "cell_type": "markdown",
   "metadata": {},
   "source": [
    "# 실습과제 2\n",
    "\n",
    "## Slack에 올라와 있는 도전 과제 3개"
   ]
  },
  {
   "cell_type": "markdown",
   "metadata": {},
   "source": [
    "### 1. 5월 22일 도전과제"
   ]
  },
  {
   "cell_type": "markdown",
   "metadata": {},
   "source": [
    "##### 2부터 숫자를 키워가며 num을 나눌 수 있는 경우 factors에 추가, 안될 경우 +1 을 수행한다\n",
    "##### 각 소인수를 2개 이상 가질 수 있는 경우가 존재하므로 for문 보다는 while문이 적합하다고 판단\n",
    "##### 겹치는 소인수가 존재할 수 있으므로 set을 이용해 겹치는 원소 배제, sorted를 통해 오름차순으로 배열함으로써 가독성 증가"
   ]
  },
  {
   "cell_type": "code",
   "execution_count": 84,
   "metadata": {},
   "outputs": [],
   "source": [
    "def solution(num):\n",
    "    factors = []\n",
    "    i = 2\n",
    "    while i <= num:\n",
    "        if num % i == 0:\n",
    "            factors.append(i)\n",
    "            num = num // i\n",
    "        else:\n",
    "            i += 1\n",
    "    result = sorted(list(set(factors)))\n",
    "    \n",
    "    return result"
   ]
  },
  {
   "cell_type": "code",
   "execution_count": 85,
   "metadata": {},
   "outputs": [
    {
     "name": "stdout",
     "output_type": "stream",
     "text": [
      "입력하신 수 12의 소인수는 [2, 3]입니다.\n"
     ]
    }
   ],
   "source": [
    "n = int(input(\"소인수분해 할 수를 입력하세요 : \"))\n",
    "print(f\"입력하신 수 {n}의 소인수는 {solution(n)}입니다.\")"
   ]
  },
  {
   "cell_type": "markdown",
   "metadata": {},
   "source": [
    "### 2. 5월 20일 도전과제"
   ]
  },
  {
   "cell_type": "markdown",
   "metadata": {},
   "source": [
    "##### pi와 sqrt()를 사용하기 위해 math 모듈을 import"
   ]
  },
  {
   "cell_type": "code",
   "execution_count": null,
   "metadata": {},
   "outputs": [],
   "source": [
    "import math"
   ]
  },
  {
   "cell_type": "markdown",
   "metadata": {},
   "source": [
    "##### 조건에 맞는 Circle class 요소들 정의"
   ]
  },
  {
   "cell_type": "code",
   "execution_count": 86,
   "metadata": {},
   "outputs": [],
   "source": [
    "class Circle:\n",
    "    def __init__(self, x, y, radius):\n",
    "        self.__x = x\n",
    "        self.__y = y\n",
    "        self.__radius = radius\n",
    "    \n",
    "    PI = math.pi\n",
    "    \n",
    "    def __str__(self):\n",
    "        return f'중심좌표 : ({self.__x}, {self.__y}), 반지름 : {self.__radius}, 면적 : {self.area()}'\n",
    "    \n",
    "    def set_x(self, x):\n",
    "        self.__x = x\n",
    "    \n",
    "    def get_x(self):\n",
    "        return self.__x\n",
    "    \n",
    "    def set_y(self, y):\n",
    "        self.__y = y\n",
    "    \n",
    "    def get_y(self):\n",
    "        return self.__y\n",
    "    \n",
    "    def set_radius(self, radius):\n",
    "        self.__radius = radius\n",
    "    \n",
    "    def get_radius(self):\n",
    "        return self.__radius\n",
    "    \n",
    "    def area(self):\n",
    "        return self.PI * (self.get_radius() ** 2)\n",
    "    \n",
    "    def overlaps(self, c):\n",
    "        _length = math.sqrt((c.get_x() - self.get_x()) ** 2 + (c.get_y() - self.get_y()) ** 2)\n",
    "        if _length <= self.get_radius():\n",
    "            return True\n",
    "        else:\n",
    "            return False\n",
    "    \n",
    "    def contains(self, c):\n",
    "        _length = math.sqrt((c.get_x() - self.get_x()) ** 2 + (c.get_y() - self.get_y()) ** 2) + c.get_radius()\n",
    "        if _length <= self.get_radius():\n",
    "            return True\n",
    "        else:\n",
    "            return False\n"
   ]
  },
  {
   "cell_type": "markdown",
   "metadata": {},
   "source": [
    "##### 원 c1, c2, c3 초기설정"
   ]
  },
  {
   "cell_type": "code",
   "execution_count": 87,
   "metadata": {},
   "outputs": [],
   "source": [
    "c1 = Circle(0,0,5)\n",
    "c2 = Circle(0,10,5)\n",
    "c3 = Circle(0,10,10)"
   ]
  },
  {
   "cell_type": "markdown",
   "metadata": {},
   "source": [
    "##### 초기 원 c1,c2,c3는 겹치는게 존재하는가?"
   ]
  },
  {
   "cell_type": "code",
   "execution_count": 88,
   "metadata": {},
   "outputs": [
    {
     "name": "stdout",
     "output_type": "stream",
     "text": [
      "False\n",
      "False\n",
      "True\n"
     ]
    }
   ],
   "source": [
    "print(c1.overlaps(c2))\n",
    "print(c1.overlaps(c3))\n",
    "print(c2.overlaps(c3))"
   ]
  },
  {
   "cell_type": "markdown",
   "metadata": {},
   "source": [
    "##### 초기 원 c1,c2,c3는 속해있는 경우가 있는가?"
   ]
  },
  {
   "cell_type": "code",
   "execution_count": 89,
   "metadata": {},
   "outputs": [
    {
     "name": "stdout",
     "output_type": "stream",
     "text": [
      "False\n",
      "False\n",
      "False\n",
      "True\n",
      "True\n",
      "True\n"
     ]
    }
   ],
   "source": [
    "print(c1.overlaps(c2))\n",
    "print(c1.overlaps(c3))\n",
    "print(c2.overlaps(c1))\n",
    "print(c2.overlaps(c3))\n",
    "print(c3.overlaps(c1))\n",
    "print(c3.overlaps(c2))"
   ]
  },
  {
   "cell_type": "markdown",
   "metadata": {},
   "source": [
    "##### 원 c1 변경"
   ]
  },
  {
   "cell_type": "code",
   "execution_count": 90,
   "metadata": {},
   "outputs": [
    {
     "name": "stdout",
     "output_type": "stream",
     "text": [
      "중심좌표 : (0, 0), 반지름 : 5, 면적 : 78.53981633974483\n",
      "0\n",
      "1\n",
      "3\n"
     ]
    }
   ],
   "source": [
    "print(c1)\n",
    "c1.set_x(0)\n",
    "print(c1.get_x())\n",
    "c1.set_y(1)\n",
    "print(c1.get_y())\n",
    "c1.set_radius(3)\n",
    "print(c1.get_radius())"
   ]
  },
  {
   "cell_type": "markdown",
   "metadata": {},
   "source": [
    "##### 원 c2 변경"
   ]
  },
  {
   "cell_type": "code",
   "execution_count": 91,
   "metadata": {},
   "outputs": [
    {
     "name": "stdout",
     "output_type": "stream",
     "text": [
      "중심좌표 : (0, 10), 반지름 : 5, 면적 : 78.53981633974483\n",
      "6\n",
      "2\n",
      "7\n"
     ]
    }
   ],
   "source": [
    "print(c2)\n",
    "c2.set_x(6)\n",
    "print(c2.get_x())\n",
    "c2.set_y(2)\n",
    "print(c2.get_y())\n",
    "c2.set_radius(7)\n",
    "print(c2.get_radius())"
   ]
  },
  {
   "cell_type": "markdown",
   "metadata": {},
   "source": [
    "##### 원 c3 변경"
   ]
  },
  {
   "cell_type": "code",
   "execution_count": 92,
   "metadata": {},
   "outputs": [
    {
     "name": "stdout",
     "output_type": "stream",
     "text": [
      "중심좌표 : (0, 10), 반지름 : 10, 면적 : 314.1592653589793\n",
      "5\n",
      "0\n",
      "1\n"
     ]
    }
   ],
   "source": [
    "print(c3)\n",
    "c3.set_x(5)\n",
    "print(c3.get_x())\n",
    "c3.set_y(0)\n",
    "print(c3.get_y())\n",
    "c3.set_radius(1)\n",
    "print(c3.get_radius())"
   ]
  },
  {
   "cell_type": "markdown",
   "metadata": {},
   "source": [
    "##### 변경된 원들은 겹쳐있는게 존재하는가?"
   ]
  },
  {
   "cell_type": "code",
   "execution_count": 93,
   "metadata": {},
   "outputs": [
    {
     "name": "stdout",
     "output_type": "stream",
     "text": [
      "False\n",
      "False\n",
      "True\n"
     ]
    }
   ],
   "source": [
    "print(c1.overlaps(c2))\n",
    "print(c1.overlaps(c3))\n",
    "print(c2.overlaps(c3))"
   ]
  },
  {
   "cell_type": "markdown",
   "metadata": {},
   "source": [
    "##### 변경된 원들은 속해있는게 존재하는가?"
   ]
  },
  {
   "cell_type": "code",
   "execution_count": 94,
   "metadata": {},
   "outputs": [
    {
     "name": "stdout",
     "output_type": "stream",
     "text": [
      "False\n",
      "False\n",
      "True\n",
      "True\n",
      "False\n",
      "False\n"
     ]
    }
   ],
   "source": [
    "print(c1.overlaps(c2))\n",
    "print(c1.overlaps(c3))\n",
    "print(c2.overlaps(c1))\n",
    "print(c2.overlaps(c3))\n",
    "print(c3.overlaps(c1))\n",
    "print(c3.overlaps(c2))"
   ]
  },
  {
   "cell_type": "markdown",
   "metadata": {},
   "source": [
    "### 3. 5월 16일 도전과제"
   ]
  },
  {
   "cell_type": "markdown",
   "metadata": {},
   "source": [
    "#### 주어진 num을 제곱하여 리턴하는 함수"
   ]
  },
  {
   "cell_type": "code",
   "execution_count": 95,
   "metadata": {},
   "outputs": [],
   "source": [
    "def _square(num):\n",
    "    return num ** 2"
   ]
  },
  {
   "cell_type": "markdown",
   "metadata": {},
   "source": [
    "#### 주어진 num이 짝수인지 판별하는 함수"
   ]
  },
  {
   "cell_type": "code",
   "execution_count": 96,
   "metadata": {},
   "outputs": [],
   "source": [
    "def is_even(num):\n",
    "    return True if num % 2 == 0 else False"
   ]
  },
  {
   "cell_type": "markdown",
   "metadata": {},
   "source": [
    "#### 주어진 배열의 원소 중 짝수만 제곱하여 리턴하는 함수"
   ]
  },
  {
   "cell_type": "code",
   "execution_count": 97,
   "metadata": {},
   "outputs": [],
   "source": [
    "def ret_even_square(nums):\n",
    "    result = list(map(_square, filter(is_even, nums)))\n",
    "    return result"
   ]
  },
  {
   "cell_type": "code",
   "execution_count": 98,
   "metadata": {},
   "outputs": [
    {
     "name": "stdout",
     "output_type": "stream",
     "text": [
      "[4, 16, 36, 64, 100]\n"
     ]
    }
   ],
   "source": [
    "nums = [1, 2, 3, 4, 5, 6, 7, 8, 9, 10]\n",
    "print(ret_even_square(nums))"
   ]
  }
 ],
 "metadata": {
  "kernelspec": {
   "display_name": "Python 3",
   "language": "python",
   "name": "python3"
  },
  "language_info": {
   "codemirror_mode": {
    "name": "ipython",
    "version": 3
   },
   "file_extension": ".py",
   "mimetype": "text/x-python",
   "name": "python",
   "nbconvert_exporter": "python",
   "pygments_lexer": "ipython3",
   "version": "3.11.9"
  }
 },
 "nbformat": 4,
 "nbformat_minor": 2
}
